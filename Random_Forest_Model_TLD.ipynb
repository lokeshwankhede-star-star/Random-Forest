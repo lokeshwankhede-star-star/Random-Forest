{
 "cells": [
  {
   "cell_type": "code",
   "execution_count": 1,
   "id": "4de31b91",
   "metadata": {},
   "outputs": [],
   "source": [
    "import os\n",
    "import cv2\n",
    "import numpy as np\n",
    "from sklearn.ensemble import RandomForestClassifier\n",
    "from sklearn.model_selection import train_test_split\n",
    "from sklearn.metrics import accuracy_score, confusion_matrix\n",
    "import seaborn as sns\n",
    "import matplotlib.pyplot as plt"
   ]
  },
  {
   "cell_type": "code",
   "execution_count": 5,
   "id": "9e2f5626",
   "metadata": {},
   "outputs": [],
   "source": [
    "from skimage import io"
   ]
  },
  {
   "cell_type": "code",
   "execution_count": 6,
   "id": "f2930d50",
   "metadata": {},
   "outputs": [],
   "source": [
    "from sklearn.metrics import classification_report, confusion_matrix\n",
    "from skimage import io\n",
    "from skimage.transform import resize\n",
    "from sklearn.model_selection import train_test_split"
   ]
  },
  {
   "cell_type": "code",
   "execution_count": 2,
   "id": "7cdc35ba",
   "metadata": {},
   "outputs": [],
   "source": [
    "\n",
    "# Define the directories for the tomato images with and without disease\n",
    "disease_dir = \"C:/Users/LOKESH/OneDrive/Desktop/Dataset\"\n",
    "healthy_dir = \"E:/Healthy\"\n"
   ]
  },
  {
   "cell_type": "code",
   "execution_count": 3,
   "id": "1794a470",
   "metadata": {},
   "outputs": [],
   "source": [
    "\n",
    "# Load the dataset of tomato images\n",
    "X = []  # List to store the image data\n",
    "y = []  # List to store the labels\n"
   ]
  },
  {
   "cell_type": "code",
   "execution_count": 7,
   "id": "e239d2d7",
   "metadata": {},
   "outputs": [],
   "source": [
    "\n",
    "# loop through the dataset and extract features and labels\n",
    "for subdir, dirs, files in os.walk(disease_dir):\n",
    "    for file in files:\n",
    "        # load the image and resize it\n",
    "        image_path = os.path.join(subdir, file)\n",
    "        image = io.imread(image_path)\n",
    "        resized_image = resize(image, (64, 64), anti_aliasing=True)\n",
    "        # extract features from the resized image and add it to the X list\n",
    "        X.append(resized_image)\n",
    "        y.append(1)"
   ]
  },
  {
   "cell_type": "code",
   "execution_count": 8,
   "id": "ffe87ea3",
   "metadata": {},
   "outputs": [],
   "source": [
    "\n",
    "# Add healthy tomato images to the dataset\n",
    "for img_file in os.listdir(healthy_dir):\n",
    "    img = cv2.imread(os.path.join(healthy_dir, img_file))\n",
    "    img = cv2.resize(img, (64, 64))  # Resize image to 64x64 pixels\n",
    "    X.append(img)\n",
    "    y.append(0)  # Label for healthy tomato image is 0\n"
   ]
  },
  {
   "cell_type": "code",
   "execution_count": 9,
   "id": "88a1ffde",
   "metadata": {},
   "outputs": [],
   "source": [
    "\n",
    "# Convert the lists to numpy arrays\n",
    "X = np.array(X)\n",
    "y = np.array(y)\n"
   ]
  },
  {
   "cell_type": "code",
   "execution_count": 10,
   "id": "32842add",
   "metadata": {},
   "outputs": [],
   "source": [
    "\n",
    "# Split the dataset into training and testing sets\n",
    "X_train, X_test, y_train, y_test = train_test_split(X, y, test_size=0.2)\n"
   ]
  },
  {
   "cell_type": "code",
   "execution_count": 11,
   "id": "723147af",
   "metadata": {},
   "outputs": [],
   "source": [
    "\n",
    "# Flatten the image data\n",
    "X_train = X_train.reshape(X_train.shape[0], -1)\n",
    "X_test = X_test.reshape(X_test.shape[0], -1)\n"
   ]
  },
  {
   "cell_type": "code",
   "execution_count": 12,
   "id": "97fe24bb",
   "metadata": {},
   "outputs": [],
   "source": [
    "\n",
    "# Create Random Forest classifier with 100 trees\n",
    "clf = RandomForestClassifier(n_estimators=100, random_state=42)\n"
   ]
  },
  {
   "cell_type": "code",
   "execution_count": 13,
   "id": "a7e8679c",
   "metadata": {},
   "outputs": [
    {
     "data": {
      "text/plain": [
       "RandomForestClassifier(random_state=42)"
      ]
     },
     "execution_count": 13,
     "metadata": {},
     "output_type": "execute_result"
    }
   ],
   "source": [
    "\n",
    "# Train the classifier on the training set\n",
    "clf.fit(X_train, y_train)\n"
   ]
  },
  {
   "cell_type": "code",
   "execution_count": 14,
   "id": "77ebf436",
   "metadata": {},
   "outputs": [],
   "source": [
    "# Predict the labels for the testing set\n",
    "y_pred = clf.predict(X_test)\n"
   ]
  },
  {
   "cell_type": "code",
   "execution_count": 15,
   "id": "fe498275",
   "metadata": {},
   "outputs": [],
   "source": [
    "\n",
    "# Calculate the accuracy of the classifier\n",
    "accuracy = accuracy_score(y_test, y_pred)\n"
   ]
  },
  {
   "cell_type": "code",
   "execution_count": 16,
   "id": "0f5f5bd5",
   "metadata": {},
   "outputs": [
    {
     "name": "stdout",
     "output_type": "stream",
     "text": [
      "Accuracy of Random Forest classifier: 1.0\n"
     ]
    }
   ],
   "source": [
    "\n",
    "# Print the accuracy of the classifier\n",
    "print(f\"Accuracy of Random Forest classifier: {accuracy}\")\n"
   ]
  },
  {
   "cell_type": "code",
   "execution_count": 17,
   "id": "d1cd573a",
   "metadata": {},
   "outputs": [],
   "source": [
    "\n",
    "# Generate the confusion matrix\n",
    "cm = confusion_matrix(y_test, y_pred)\n"
   ]
  },
  {
   "cell_type": "code",
   "execution_count": 18,
   "id": "7bcc4bff",
   "metadata": {},
   "outputs": [
    {
     "data": {
      "image/png": "[encoded data removed]",
      "text/plain": [
       "<Figure size 360x360 with 1 Axes>"
      ]
     },
     "metadata": {
      "needs_background": "light"
     },
     "output_type": "display_data"
    }
   ],
   "source": [
    "\n",
    "# Plot the confusion matrix using Seaborn\n",
    "plt.figure(figsize=(5,5))\n",
    "sns.heatmap(cm, annot=True, cmap=\"Blues\", fmt=\"d\", cbar=False,\n",
    "            xticklabels=[\"Healthy\", \"Diseased\"], yticklabels=[\"Healthy\", \"Diseased\"])\n",
    "plt.title(\"Confusion Matrix for Random Forest Classifier\")\n",
    "plt.xlabel(\"Predicted Labels\")\n",
    "plt.ylabel(\"True Labels\")\n",
    "plt.show()"
   ]
  },
  {
   "cell_type": "code",
   "execution_count": 27,
   "id": "304bad9d",
   "metadata": {},
   "outputs": [
    {
     "name": "stdout",
     "output_type": "stream",
     "text": [
      "Classification Report:\n",
      "               precision    recall  f1-score   support\n",
      "\n",
      "           0       1.00      1.00      1.00        14\n",
      "           1       1.00      1.00      1.00       509\n",
      "\n",
      "    accuracy                           1.00       523\n",
      "   macro avg       1.00      1.00      1.00       523\n",
      "weighted avg       1.00      1.00      1.00       523\n",
      "\n"
     ]
    }
   ],
   "source": [
    "print(\"Classification Report:\\n\", classification_report(y_test, y_pred))"
   ]
  },
  {
   "cell_type": "code",
   "execution_count": 28,
   "id": "083c80df",
   "metadata": {},
   "outputs": [
    {
     "name": "stdout",
     "output_type": "stream",
     "text": [
      "Confusion Matrix:\n",
      " [[ 14   0]\n",
      " [  0 509]]\n"
     ]
    }
   ],
   "source": [
    "print(\"Confusion Matrix:\\n\", confusion_matrix(y_test, y_pred))"
   ]
  },
  {
   "cell_type": "code",
   "execution_count": null,
   "id": "e7d6832b",
   "metadata": {},
   "outputs": [],
   "source": []
  }
 ],
 "metadata": {
  "kernelspec": {
   "display_name": "Python 3 (ipykernel)",
   "language": "python",
   "name": "python3"
  },
  "language_info": {
   "codemirror_mode": {
    "name": "ipython",
    "version": 3
   },
   "file_extension": ".py",
   "mimetype": "text/x-python",
   "name": "python",
   "nbconvert_exporter": "python",
   "pygments_lexer": "ipython3",
   "version": "3.9.12"
  }
 },
 "nbformat": 4,
 "nbformat_minor": 5
}
